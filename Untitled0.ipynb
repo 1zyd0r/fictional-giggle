{
  "nbformat": 4,
  "nbformat_minor": 0,
  "metadata": {
    "colab": {
      "provenance": []
    },
    "kernelspec": {
      "name": "python3",
      "display_name": "Python 3"
    },
    "language_info": {
      "name": "python"
    }
  },
  "cells": [
    {
      "cell_type": "code",
      "execution_count": null,
      "metadata": {
        "id": "_0aet6TR3Ozf"
      },
      "outputs": [],
      "source": [
        "# @title 1. Install PyPy3.10 and numpy v1.23.1\n",
        "\n",
        "!rm -r sample_data\n",
        "\n",
        "!wget https://downloads.python.org/pypy/pypy3.10-v7.3.18-linux64.tar.bz2\n",
        "!tar -xvjf pypy3.10-v7.3.18-linux64.tar.bz2\n",
        "!rm pypy3.10-v7.3.18-linux64.tar.bz2\n",
        "import os\n",
        "os.environ['PATH'] += \":/content/pypy3.10-v7.3.18-linux64/bin\"\n",
        "!pypy3.10 --version\n",
        "\n",
        "!/content/pypy3.10-v7.3.18-linux64/bin/pypy3.10 -m ensurepip\n",
        "!pypy3.10 -m pip install numpy==1.23.1"
      ]
    },
    {
      "cell_type": "code",
      "source": [
        "# @title 2. Download GISTEMP v4\n",
        "\n",
        "# Download and extract GISTEMP v4 from https://data.giss.nasa.gov/gistemp/sources_v4/gistemp4.0.tar.gz\n",
        "!curl -L https://data.giss.nasa.gov/gistemp/sources_v4/gistemp4.0.tar.gz -o gistemp4.0.tar.gz\n",
        "!tar -xzf gistemp4.0.tar.gz\n",
        "\n",
        "# Clear\n",
        "!rm -rf /content/gistemp4.0/tmp/*\n",
        "!rm gistemp4.0.tar.gz"
      ],
      "metadata": {
        "id": "N9JgvSly3SSF"
      },
      "execution_count": null,
      "outputs": []
    },
    {
      "cell_type": "code",
      "source": [
        "# @title 3. Download latest GHCNv4 dataset; Ts.strange.v4.list.IN_full & wrld-rad.data.txt\n",
        "\n",
        "%%bash\n",
        "# Create the target directory (if it doesn't exist) and switch to it\n",
        "mkdir -p /content/gistemp4.0/tmp/input\n",
        "cd /content/gistemp4.0/tmp/input\n",
        "\n",
        "# Download the tar.gz archive from the FTP server\n",
        "wget ftp://ftp.ncdc.noaa.gov/pub/data/ghcn/v4/ghcnm.tavg.latest.qcf.tar.gz\n",
        "\n",
        "# Extract the archive (assumes structure: folder/folder/*.dat and *.inv)\n",
        "tar -xzf ghcnm.tavg.latest.qcf.tar.gz\n",
        "\n",
        "# Locate the .dat and .inv files within the extracted directories\n",
        "dat_file=$(find . -type f -name \"*.dat\" | head -n 1)\n",
        "inv_file=$(find . -type f -name \"*.inv\" | head -n 1)\n",
        "\n",
        "echo \"Found .dat file: $dat_file\"\n",
        "echo \"Found .inv file: $inv_file\"\n",
        "\n",
        "# Rename the files as required\n",
        "mv \"$dat_file\" ghcnm.tavg.qcf.dat\n",
        "mv \"$inv_file\" v4.inv\n",
        "\n",
        "# Download additional necessary files from NASA GISS\n",
        "curl -O https://data.giss.nasa.gov/pub/gistemp/Ts.strange.v4.list.IN_full\n",
        "curl -O https://data.giss.nasa.gov/pub/gistemp/wrld-rad.data.txt\n",
        "\n",
        "# Remove the downloaded archive\n",
        "rm -f ghcnm.tavg.latest.qcf.tar.gz\n",
        "\n",
        "# Remove any leftover extracted directories\n",
        "for d in */; do\n",
        "  rm -rf \"$d\"\n",
        "done\n",
        "\n",
        "echo \"Files downloaded, extracted, renamed, and leftovers removed.\""
      ],
      "metadata": {
        "id": "QyIjRSIP3ew5"
      },
      "execution_count": null,
      "outputs": []
    },
    {
      "cell_type": "code",
      "source": [
        "# @title 4. Download Raw ERSSTv5 ASCII Files\n",
        "\n",
        "# Create the main directory and the raw_ascii subdirectory\n",
        "!mkdir -p /content/ERSSTv5/raw_ascii\n",
        "\n",
        "# Change the working directory to the raw_ascii folder\n",
        "%cd /content/ERSSTv5/raw_ascii\n",
        "\n",
        "# Recursively download all files from the FTP server\n",
        "!wget -r -np -nd -l1 ftp://ftp.ncdc.noaa.gov/pub/data/cmb/ersst/v5/ascii/"
      ],
      "metadata": {
        "id": "Aige4QNU3y_5"
      },
      "execution_count": null,
      "outputs": []
    },
    {
      "cell_type": "code",
      "source": [
        "# @title 5. Get all needed files\n",
        "\n",
        "%%bash\n",
        "# Change directory to the ERSSTv5 folder\n",
        "cd /content/ERSSTv5/\n",
        "\n",
        "# Create a directory for Fortran files and navigate into it\n",
        "mkdir -p /content/ERSSTv5/fortran\n",
        "cd /content/ERSSTv5/fortran\n",
        "\n",
        "# Download MaskRegrid.f\n",
        "wget -O MaskRegrid.f https://raw.githubusercontent.com/1zyd0r/fictional-giggle/refs/heads/main/MaskRegrid.f\n",
        "\n",
        "# Download rearrange.ERSST.f\n",
        "wget -O rearrange.ERSST.f https://raw.githubusercontent.com/1zyd0r/fictional-giggle/refs/heads/main/rearrange.ERSST.f\n",
        "\n",
        "# Download trimSBBX.f\n",
        "wget -O trimSBBX.f https://raw.githubusercontent.com/1zyd0r/fictional-giggle/refs/heads/main/trimSBBX.f\n",
        "\n",
        "# Download asc2bin.f90\n",
        "wget -O asc2bin.f90 https://raw.githubusercontent.com/1zyd0r/fictional-giggle/refs/heads/main/asc2bin.f90\n",
        "\n",
        "# Return to the main ERSSTv5 folder to download the JavaScript file\n",
        "cd /content/ERSSTv5/\n",
        "# Download raw_asc_to_bin.js\n",
        "wget -O raw_asc_to_bin.js https://raw.githubusercontent.com/1zyd0r/fictional-giggle/refs/heads/main/raw_asc_to_bin.js\n",
        "\n",
        "# Create the input_files directory and navigate into it\n",
        "mkdir -p /content/ERSSTv5/input_files\n",
        "cd /content/ERSSTv5/input_files\n",
        "\n",
        "# Download ERSST_open_ocean_mask.bin\n",
        "wget -O ERSST_open_ocean_mask.bin https://data.giss.nasa.gov/gistemp/sources/ERSST_open_ocean_mask.bin"
      ],
      "metadata": {
        "id": "bKrkU-7071Ac"
      },
      "execution_count": null,
      "outputs": []
    },
    {
      "cell_type": "code",
      "source": [
        "# @title 6. Compile all fortran\n",
        "\n",
        "%%bash\n",
        "\n",
        "cd /content/ERSSTv5/\n",
        "\n",
        "gfortran -fconvert=big-endian -frecord-marker=4 -o MaskRegrid ./fortran/MaskRegrid.f --std=legacy\n",
        "gfortran -fconvert=big-endian -frecord-marker=4 -o rearrange.ERSST ./fortran/rearrange.ERSST.f --std=legacy\n",
        "gfortran -fconvert=big-endian -frecord-marker=4 -o trimSBBX ./fortran/trimSBBX.f --std=legacy\n",
        "gfortran -fconvert=big-endian -frecord-marker=4 -o asc2bin ./fortran/asc2bin.f90 --std=legacy"
      ],
      "metadata": {
        "id": "w9GrRBmZGUyJ"
      },
      "execution_count": 13,
      "outputs": []
    },
    {
      "cell_type": "code",
      "source": [
        "# @title 7. Prepare ASCII files\n",
        "\n",
        "%%bash\n",
        "\n",
        "cd /content/ERSSTv5/\n",
        "\n",
        "node raw_asc_to_bin.js"
      ],
      "metadata": {
        "id": "HdmTxdkHPtrD"
      },
      "execution_count": null,
      "outputs": []
    },
    {
      "cell_type": "code",
      "source": [
        "# @title 8. Create SBBX\n",
        "\n",
        "yr1 = input(\"Enter start year: \")\n",
        "month1 = input(\"Enter start month: \")\n",
        "yr2 = input(\"Enter end year: \")\n",
        "month2 = input(\"Enter end month: \")\n",
        "\n",
        "# Run bash commands using Python variables\n",
        "!cd /content/ERSSTv5/ && ./MaskRegrid {yr1} {month1} {yr2} {month2} 0.5\n",
        "!cd /content/ERSSTv5/ && echo \"created:\" && ls -l ERdSST_monthly\n",
        "\n",
        "# Update SBBX.ERSSTv5 by creating SBBX.ERSSTv5.upd\n",
        "!cd /content/ERSSTv5/ && ./rearrange.ERSST {yr1} {month1} {yr2} {month2}\n",
        "!cd /content/ERSSTv5/ && echo \"created:\" && ls -l SBBX.ERSST.upd\n",
        "\n",
        "!cd /content/ERSSTv5/ && ./trimSBBX SBBX.ERSST.upd SBBX.ERSSTv5\n",
        "!cd /content/ERSSTv5/ && echo \"created:\" && ls -l SBBX.ERSSTv5\n",
        "\n",
        "!cd /content/ERSSTv5/ && echo \"removing the auxiliary files:\" && rm -f ERdSST_monthly SBBX.ERSST.upd\n",
        "\n",
        "!cd /content/ERSSTv5/ && cp SBBX.ERSSTv5 /content/gistemp4.0/tmp/input"
      ],
      "metadata": {
        "id": "nmoo9DzUPMBQ"
      },
      "execution_count": null,
      "outputs": []
    },
    {
      "cell_type": "code",
      "source": [
        "# @title 9. Start the GISTEMP run & tail result\n",
        "\n",
        "# Change directory to gistemp4.0 and run /tool/run.py using PyPy\n",
        "%cd /content/gistemp4.0\n",
        "\n",
        "# Disable all sources\n",
        "!sed -i '/./{ /^[[:space:]]*#/! s/^/#/ }' ./config/sources.txt\n",
        "\n",
        "!pypy3.10 /content/gistemp4.0/tool/run.py\n",
        "\n",
        "# Return to the root directory\n",
        "%cd /content\n",
        "\n",
        "!tail /content/gistemp4.0/tmp/result/mixedGLB.Ts.ERSSTV5.GHCN.CL.PA.txt"
      ],
      "metadata": {
        "id": "Qvubb8EpTvR9"
      },
      "execution_count": null,
      "outputs": []
    }
  ]
}